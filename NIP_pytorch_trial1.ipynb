{
  "nbformat": 4,
  "nbformat_minor": 0,
  "metadata": {
    "colab": {
      "name": "NIP_pytorch_trial1.ipynb",
      "provenance": [],
      "collapsed_sections": [],
      "mount_file_id": "18k251Hb2sqUR7uXAibeclTHANCykVW0a",
      "authorship_tag": "ABX9TyN57bSgroSjRpnvV6tQI35a",
      "include_colab_link": true
    },
    "kernelspec": {
      "name": "python3",
      "display_name": "Python 3"
    },
    "language_info": {
      "name": "python"
    },
    "accelerator": "GPU",
    "widgets": {
      "application/vnd.jupyter.widget-state+json": {
        "d66c43ee1b644116b4fd0f4ef4e914f9": {
          "model_module": "@jupyter-widgets/controls",
          "model_name": "HBoxModel",
          "model_module_version": "1.5.0",
          "state": {
            "_dom_classes": [],
            "_model_module": "@jupyter-widgets/controls",
            "_model_module_version": "1.5.0",
            "_model_name": "HBoxModel",
            "_view_count": null,
            "_view_module": "@jupyter-widgets/controls",
            "_view_module_version": "1.5.0",
            "_view_name": "HBoxView",
            "box_style": "",
            "children": [
              "IPY_MODEL_c725ca5c13f3426c93694a821d95bf0e",
              "IPY_MODEL_7f3228d531f74b518e0253a3c886066b",
              "IPY_MODEL_66c0ff6330c14c7e93cdee6d680b2b84"
            ],
            "layout": "IPY_MODEL_9134071d9f5a48d5ad3cd5ca97f3083d"
          }
        },
        "c725ca5c13f3426c93694a821d95bf0e": {
          "model_module": "@jupyter-widgets/controls",
          "model_name": "HTMLModel",
          "model_module_version": "1.5.0",
          "state": {
            "_dom_classes": [],
            "_model_module": "@jupyter-widgets/controls",
            "_model_module_version": "1.5.0",
            "_model_name": "HTMLModel",
            "_view_count": null,
            "_view_module": "@jupyter-widgets/controls",
            "_view_module_version": "1.5.0",
            "_view_name": "HTMLView",
            "description": "",
            "description_tooltip": null,
            "layout": "IPY_MODEL_3bbd005c70784ca1bfd7d48acf61c557",
            "placeholder": "​",
            "style": "IPY_MODEL_3ebd675654c34ca29b08a434ca5d66c5",
            "value": "100%"
          }
        },
        "7f3228d531f74b518e0253a3c886066b": {
          "model_module": "@jupyter-widgets/controls",
          "model_name": "FloatProgressModel",
          "model_module_version": "1.5.0",
          "state": {
            "_dom_classes": [],
            "_model_module": "@jupyter-widgets/controls",
            "_model_module_version": "1.5.0",
            "_model_name": "FloatProgressModel",
            "_view_count": null,
            "_view_module": "@jupyter-widgets/controls",
            "_view_module_version": "1.5.0",
            "_view_name": "ProgressView",
            "bar_style": "success",
            "description": "",
            "description_tooltip": null,
            "layout": "IPY_MODEL_5bf6795481904a4cb3203d05259265bf",
            "max": 574673361,
            "min": 0,
            "orientation": "horizontal",
            "style": "IPY_MODEL_e1f9dd4e02174d859912fb12d7d70c32",
            "value": 574673361
          }
        },
        "66c0ff6330c14c7e93cdee6d680b2b84": {
          "model_module": "@jupyter-widgets/controls",
          "model_name": "HTMLModel",
          "model_module_version": "1.5.0",
          "state": {
            "_dom_classes": [],
            "_model_module": "@jupyter-widgets/controls",
            "_model_module_version": "1.5.0",
            "_model_name": "HTMLModel",
            "_view_count": null,
            "_view_module": "@jupyter-widgets/controls",
            "_view_module_version": "1.5.0",
            "_view_name": "HTMLView",
            "description": "",
            "description_tooltip": null,
            "layout": "IPY_MODEL_b1dc5ee70d5b4223b5335cf7c2e3b735",
            "placeholder": "​",
            "style": "IPY_MODEL_2aa325ee552c4e5cbccf651c2bd3add9",
            "value": " 548M/548M [00:05&lt;00:00, 117MB/s]"
          }
        },
        "9134071d9f5a48d5ad3cd5ca97f3083d": {
          "model_module": "@jupyter-widgets/base",
          "model_name": "LayoutModel",
          "model_module_version": "1.2.0",
          "state": {
            "_model_module": "@jupyter-widgets/base",
            "_model_module_version": "1.2.0",
            "_model_name": "LayoutModel",
            "_view_count": null,
            "_view_module": "@jupyter-widgets/base",
            "_view_module_version": "1.2.0",
            "_view_name": "LayoutView",
            "align_content": null,
            "align_items": null,
            "align_self": null,
            "border": null,
            "bottom": null,
            "display": null,
            "flex": null,
            "flex_flow": null,
            "grid_area": null,
            "grid_auto_columns": null,
            "grid_auto_flow": null,
            "grid_auto_rows": null,
            "grid_column": null,
            "grid_gap": null,
            "grid_row": null,
            "grid_template_areas": null,
            "grid_template_columns": null,
            "grid_template_rows": null,
            "height": null,
            "justify_content": null,
            "justify_items": null,
            "left": null,
            "margin": null,
            "max_height": null,
            "max_width": null,
            "min_height": null,
            "min_width": null,
            "object_fit": null,
            "object_position": null,
            "order": null,
            "overflow": null,
            "overflow_x": null,
            "overflow_y": null,
            "padding": null,
            "right": null,
            "top": null,
            "visibility": null,
            "width": null
          }
        },
        "3bbd005c70784ca1bfd7d48acf61c557": {
          "model_module": "@jupyter-widgets/base",
          "model_name": "LayoutModel",
          "model_module_version": "1.2.0",
          "state": {
            "_model_module": "@jupyter-widgets/base",
            "_model_module_version": "1.2.0",
            "_model_name": "LayoutModel",
            "_view_count": null,
            "_view_module": "@jupyter-widgets/base",
            "_view_module_version": "1.2.0",
            "_view_name": "LayoutView",
            "align_content": null,
            "align_items": null,
            "align_self": null,
            "border": null,
            "bottom": null,
            "display": null,
            "flex": null,
            "flex_flow": null,
            "grid_area": null,
            "grid_auto_columns": null,
            "grid_auto_flow": null,
            "grid_auto_rows": null,
            "grid_column": null,
            "grid_gap": null,
            "grid_row": null,
            "grid_template_areas": null,
            "grid_template_columns": null,
            "grid_template_rows": null,
            "height": null,
            "justify_content": null,
            "justify_items": null,
            "left": null,
            "margin": null,
            "max_height": null,
            "max_width": null,
            "min_height": null,
            "min_width": null,
            "object_fit": null,
            "object_position": null,
            "order": null,
            "overflow": null,
            "overflow_x": null,
            "overflow_y": null,
            "padding": null,
            "right": null,
            "top": null,
            "visibility": null,
            "width": null
          }
        },
        "3ebd675654c34ca29b08a434ca5d66c5": {
          "model_module": "@jupyter-widgets/controls",
          "model_name": "DescriptionStyleModel",
          "model_module_version": "1.5.0",
          "state": {
            "_model_module": "@jupyter-widgets/controls",
            "_model_module_version": "1.5.0",
            "_model_name": "DescriptionStyleModel",
            "_view_count": null,
            "_view_module": "@jupyter-widgets/base",
            "_view_module_version": "1.2.0",
            "_view_name": "StyleView",
            "description_width": ""
          }
        },
        "5bf6795481904a4cb3203d05259265bf": {
          "model_module": "@jupyter-widgets/base",
          "model_name": "LayoutModel",
          "model_module_version": "1.2.0",
          "state": {
            "_model_module": "@jupyter-widgets/base",
            "_model_module_version": "1.2.0",
            "_model_name": "LayoutModel",
            "_view_count": null,
            "_view_module": "@jupyter-widgets/base",
            "_view_module_version": "1.2.0",
            "_view_name": "LayoutView",
            "align_content": null,
            "align_items": null,
            "align_self": null,
            "border": null,
            "bottom": null,
            "display": null,
            "flex": null,
            "flex_flow": null,
            "grid_area": null,
            "grid_auto_columns": null,
            "grid_auto_flow": null,
            "grid_auto_rows": null,
            "grid_column": null,
            "grid_gap": null,
            "grid_row": null,
            "grid_template_areas": null,
            "grid_template_columns": null,
            "grid_template_rows": null,
            "height": null,
            "justify_content": null,
            "justify_items": null,
            "left": null,
            "margin": null,
            "max_height": null,
            "max_width": null,
            "min_height": null,
            "min_width": null,
            "object_fit": null,
            "object_position": null,
            "order": null,
            "overflow": null,
            "overflow_x": null,
            "overflow_y": null,
            "padding": null,
            "right": null,
            "top": null,
            "visibility": null,
            "width": null
          }
        },
        "e1f9dd4e02174d859912fb12d7d70c32": {
          "model_module": "@jupyter-widgets/controls",
          "model_name": "ProgressStyleModel",
          "model_module_version": "1.5.0",
          "state": {
            "_model_module": "@jupyter-widgets/controls",
            "_model_module_version": "1.5.0",
            "_model_name": "ProgressStyleModel",
            "_view_count": null,
            "_view_module": "@jupyter-widgets/base",
            "_view_module_version": "1.2.0",
            "_view_name": "StyleView",
            "bar_color": null,
            "description_width": ""
          }
        },
        "b1dc5ee70d5b4223b5335cf7c2e3b735": {
          "model_module": "@jupyter-widgets/base",
          "model_name": "LayoutModel",
          "model_module_version": "1.2.0",
          "state": {
            "_model_module": "@jupyter-widgets/base",
            "_model_module_version": "1.2.0",
            "_model_name": "LayoutModel",
            "_view_count": null,
            "_view_module": "@jupyter-widgets/base",
            "_view_module_version": "1.2.0",
            "_view_name": "LayoutView",
            "align_content": null,
            "align_items": null,
            "align_self": null,
            "border": null,
            "bottom": null,
            "display": null,
            "flex": null,
            "flex_flow": null,
            "grid_area": null,
            "grid_auto_columns": null,
            "grid_auto_flow": null,
            "grid_auto_rows": null,
            "grid_column": null,
            "grid_gap": null,
            "grid_row": null,
            "grid_template_areas": null,
            "grid_template_columns": null,
            "grid_template_rows": null,
            "height": null,
            "justify_content": null,
            "justify_items": null,
            "left": null,
            "margin": null,
            "max_height": null,
            "max_width": null,
            "min_height": null,
            "min_width": null,
            "object_fit": null,
            "object_position": null,
            "order": null,
            "overflow": null,
            "overflow_x": null,
            "overflow_y": null,
            "padding": null,
            "right": null,
            "top": null,
            "visibility": null,
            "width": null
          }
        },
        "2aa325ee552c4e5cbccf651c2bd3add9": {
          "model_module": "@jupyter-widgets/controls",
          "model_name": "DescriptionStyleModel",
          "model_module_version": "1.5.0",
          "state": {
            "_model_module": "@jupyter-widgets/controls",
            "_model_module_version": "1.5.0",
            "_model_name": "DescriptionStyleModel",
            "_view_count": null,
            "_view_module": "@jupyter-widgets/base",
            "_view_module_version": "1.2.0",
            "_view_name": "StyleView",
            "description_width": ""
          }
        }
      }
    }
  },
  "cells": [
    {
      "cell_type": "markdown",
      "metadata": {
        "id": "view-in-github",
        "colab_type": "text"
      },
      "source": [
        "<a href=\"https://colab.research.google.com/github/sumankmaiti/NIP-Neuron-Label-Inverse-Perturbation/blob/main/NIP_pytorch_trial1.ipynb\" target=\"_parent\"><img src=\"https://colab.research.google.com/assets/colab-badge.svg\" alt=\"Open In Colab\"/></a>"
      ]
    },
    {
      "cell_type": "code",
      "source": [
        "!pip install cleverhans"
      ],
      "metadata": {
        "colab": {
          "base_uri": "https://localhost:8080/"
        },
        "id": "dToKGLUo3LyW",
        "outputId": "d5039b30-c81b-4453-9645-18c80756486f"
      },
      "execution_count": null,
      "outputs": [
        {
          "output_type": "stream",
          "name": "stdout",
          "text": [
            "Requirement already satisfied: cleverhans in /usr/local/lib/python3.7/dist-packages (4.0.0)\n",
            "Requirement already satisfied: joblib in /usr/local/lib/python3.7/dist-packages (from cleverhans) (1.1.0)\n",
            "Requirement already satisfied: nose in /usr/local/lib/python3.7/dist-packages (from cleverhans) (1.3.7)\n",
            "Requirement already satisfied: pycodestyle in /usr/local/lib/python3.7/dist-packages (from cleverhans) (2.8.0)\n",
            "Requirement already satisfied: scipy in /usr/local/lib/python3.7/dist-packages (from cleverhans) (1.4.1)\n",
            "Requirement already satisfied: numpy in /usr/local/lib/python3.7/dist-packages (from cleverhans) (1.21.5)\n",
            "Requirement already satisfied: absl-py in /usr/local/lib/python3.7/dist-packages (from cleverhans) (1.0.0)\n",
            "Requirement already satisfied: six in /usr/local/lib/python3.7/dist-packages (from cleverhans) (1.15.0)\n",
            "Requirement already satisfied: matplotlib in /usr/local/lib/python3.7/dist-packages (from cleverhans) (3.2.2)\n",
            "Requirement already satisfied: easydict in /usr/local/lib/python3.7/dist-packages (from cleverhans) (1.9)\n",
            "Requirement already satisfied: tensorflow-probability in /usr/local/lib/python3.7/dist-packages (from cleverhans) (0.16.0)\n",
            "Requirement already satisfied: mnist in /usr/local/lib/python3.7/dist-packages (from cleverhans) (0.2.2)\n",
            "Requirement already satisfied: kiwisolver>=1.0.1 in /usr/local/lib/python3.7/dist-packages (from matplotlib->cleverhans) (1.3.2)\n",
            "Requirement already satisfied: pyparsing!=2.0.4,!=2.1.2,!=2.1.6,>=2.0.1 in /usr/local/lib/python3.7/dist-packages (from matplotlib->cleverhans) (3.0.7)\n",
            "Requirement already satisfied: cycler>=0.10 in /usr/local/lib/python3.7/dist-packages (from matplotlib->cleverhans) (0.11.0)\n",
            "Requirement already satisfied: python-dateutil>=2.1 in /usr/local/lib/python3.7/dist-packages (from matplotlib->cleverhans) (2.8.2)\n",
            "Requirement already satisfied: decorator in /usr/local/lib/python3.7/dist-packages (from tensorflow-probability->cleverhans) (4.4.2)\n",
            "Requirement already satisfied: gast>=0.3.2 in /usr/local/lib/python3.7/dist-packages (from tensorflow-probability->cleverhans) (0.5.3)\n",
            "Requirement already satisfied: cloudpickle>=1.3 in /usr/local/lib/python3.7/dist-packages (from tensorflow-probability->cleverhans) (1.3.0)\n",
            "Requirement already satisfied: dm-tree in /usr/local/lib/python3.7/dist-packages (from tensorflow-probability->cleverhans) (0.1.6)\n"
          ]
        }
      ]
    },
    {
      "cell_type": "code",
      "source": [
        "import torch\n",
        "import torch.nn as nn\n",
        "import torch.nn.functional as F\n",
        "import torch.optim as optim\n",
        "from torch.optim.lr_scheduler import _LRScheduler\n",
        "import torch.utils.data as data\n",
        "\n",
        "import torchvision.transforms as transforms\n",
        "import torchvision.datasets as datasets\n",
        "\n",
        "from sklearn import decomposition\n",
        "from sklearn import manifold\n",
        "# from sklearn.metrics import confusion_matrix\n",
        "# from sklearn.metrics import ConfusionMatrixDisplay\n",
        "from tqdm.notebook import tqdm, trange\n",
        "import matplotlib.pyplot as plt\n",
        "import numpy as np\n",
        "\n",
        "import copy\n",
        "import random\n",
        "import time\n",
        "\n",
        "from absl import app, flags\n",
        "from easydict import EasyDict\n",
        "import torchvision\n",
        "from google.colab.patches import cv2_imshow\n",
        "import cv2\n",
        "\n",
        "from cleverhans.torch.attacks.fast_gradient_method import fast_gradient_method\n",
        "from cleverhans.torch.attacks.projected_gradient_descent import (\n",
        "    projected_gradient_descent,\n",
        ")"
      ],
      "metadata": {
        "id": "Us-U4c2U31Dg"
      },
      "execution_count": null,
      "outputs": []
    },
    {
      "cell_type": "code",
      "source": [
        "# SEED = 1234\n",
        "\n",
        "# random.seed(SEED)\n",
        "# np.random.seed(SEED)\n",
        "# torch.manual_seed(SEED)\n",
        "# torch.cuda.manual_seed(SEED)\n",
        "# torch.backends.cudnn.deterministic = True"
      ],
      "metadata": {
        "id": "2IMkEjvaE1ku"
      },
      "execution_count": null,
      "outputs": []
    },
    {
      "cell_type": "code",
      "source": [
        "# class VGG(nn.Module):\n",
        "#     def __init__(self, features, output_dim):\n",
        "#         super().__init__()\n",
        "\n",
        "#         self.features = features\n",
        "\n",
        "#         self.avgpool = nn.AdaptiveAvgPool2d(7)\n",
        "\n",
        "#         self.classifier = nn.Sequential(\n",
        "#             nn.Linear(512 * 7 * 7, 4096),\n",
        "#             nn.ReLU(inplace=True),\n",
        "#             nn.Dropout(0.5),\n",
        "#             nn.Linear(4096, 4096),\n",
        "#             nn.ReLU(inplace=True),\n",
        "#             nn.Dropout(0.5),\n",
        "#             nn.Linear(4096, output_dim),\n",
        "#         )\n",
        "\n",
        "#     def forward(self, x):\n",
        "#         x = self.features(x)\n",
        "#         x = self.avgpool(x)\n",
        "#         h = x.view(x.shape[0], -1)\n",
        "#         x = self.classifier(h)\n",
        "#         return x, h"
      ],
      "metadata": {
        "id": "r0Q3Cw1SM9eT"
      },
      "execution_count": null,
      "outputs": []
    },
    {
      "cell_type": "code",
      "source": [
        "# vgg11_config = [64, 'M', 128, 'M', 256, 256, 'M', 512, 512, 'M', 512, 512, 'M']\n",
        "\n",
        "# vgg13_config = [64, 64, 'M', 128, 128, 'M', 256, 256, 'M', 512, 512, 'M', 512,\n",
        "#                 512, 'M']\n",
        "\n",
        "# vgg16_config = [64, 64, 'M', 128, 128, 'M', 256, 256, 256, 'M', 512, 512, 512,\n",
        "#                 'M', 512, 512, 512, 'M']\n",
        "\n",
        "# vgg19_config = [64, 64, 'M', 128, 128, 'M', 256, 256, 256, 256, 'M', 512, 512,\n",
        "#                 512, 512, 'M', 512, 512, 512, 512, 'M']"
      ],
      "metadata": {
        "id": "kvX8qSI4M-78"
      },
      "execution_count": null,
      "outputs": []
    },
    {
      "cell_type": "code",
      "source": [
        "# def get_vgg_layers(config, batch_norm):\n",
        "\n",
        "#     layers = []\n",
        "#     in_channels = 3\n",
        "\n",
        "#     for c in config:\n",
        "#         assert c == 'M' or isinstance(c, int)\n",
        "#         if c == 'M':\n",
        "#             layers += [nn.MaxPool2d(kernel_size=2)]\n",
        "#         else:\n",
        "#             conv2d = nn.Conv2d(in_channels, c, kernel_size=3, padding=1)\n",
        "#             if batch_norm:\n",
        "#                 layers += [conv2d, nn.BatchNorm2d(c), nn.ReLU(inplace=True)]\n",
        "#             else:\n",
        "#                 layers += [conv2d, nn.ReLU(inplace=True)]\n",
        "#             in_channels = c\n",
        "\n",
        "#     return nn.Sequential(*layers)"
      ],
      "metadata": {
        "id": "lFHSDUZ1NFMf"
      },
      "execution_count": null,
      "outputs": []
    },
    {
      "cell_type": "code",
      "source": [
        "# vgg19_layers = get_vgg_layers(vgg19_config, batch_norm=False)"
      ],
      "metadata": {
        "id": "jXuc55sVNL90"
      },
      "execution_count": null,
      "outputs": []
    },
    {
      "cell_type": "code",
      "source": [
        "# OUTPUT_DIM = 10\n",
        "\n",
        "# model = VGG(vgg19_layers, OUTPUT_DIM)\n",
        "\n",
        "# print(model)"
      ],
      "metadata": {
        "colab": {
          "base_uri": "https://localhost:8080/"
        },
        "id": "ElE4uHsmNPkO",
        "outputId": "51497713-dd5a-4213-e7cc-386af80fb543"
      },
      "execution_count": null,
      "outputs": [
        {
          "output_type": "stream",
          "name": "stdout",
          "text": [
            "VGG(\n",
            "  (features): Sequential(\n",
            "    (0): Conv2d(3, 64, kernel_size=(3, 3), stride=(1, 1), padding=(1, 1))\n",
            "    (1): ReLU(inplace=True)\n",
            "    (2): Conv2d(64, 64, kernel_size=(3, 3), stride=(1, 1), padding=(1, 1))\n",
            "    (3): ReLU(inplace=True)\n",
            "    (4): MaxPool2d(kernel_size=2, stride=2, padding=0, dilation=1, ceil_mode=False)\n",
            "    (5): Conv2d(64, 128, kernel_size=(3, 3), stride=(1, 1), padding=(1, 1))\n",
            "    (6): ReLU(inplace=True)\n",
            "    (7): Conv2d(128, 128, kernel_size=(3, 3), stride=(1, 1), padding=(1, 1))\n",
            "    (8): ReLU(inplace=True)\n",
            "    (9): MaxPool2d(kernel_size=2, stride=2, padding=0, dilation=1, ceil_mode=False)\n",
            "    (10): Conv2d(128, 256, kernel_size=(3, 3), stride=(1, 1), padding=(1, 1))\n",
            "    (11): ReLU(inplace=True)\n",
            "    (12): Conv2d(256, 256, kernel_size=(3, 3), stride=(1, 1), padding=(1, 1))\n",
            "    (13): ReLU(inplace=True)\n",
            "    (14): Conv2d(256, 256, kernel_size=(3, 3), stride=(1, 1), padding=(1, 1))\n",
            "    (15): ReLU(inplace=True)\n",
            "    (16): Conv2d(256, 256, kernel_size=(3, 3), stride=(1, 1), padding=(1, 1))\n",
            "    (17): ReLU(inplace=True)\n",
            "    (18): MaxPool2d(kernel_size=2, stride=2, padding=0, dilation=1, ceil_mode=False)\n",
            "    (19): Conv2d(256, 512, kernel_size=(3, 3), stride=(1, 1), padding=(1, 1))\n",
            "    (20): ReLU(inplace=True)\n",
            "    (21): Conv2d(512, 512, kernel_size=(3, 3), stride=(1, 1), padding=(1, 1))\n",
            "    (22): ReLU(inplace=True)\n",
            "    (23): Conv2d(512, 512, kernel_size=(3, 3), stride=(1, 1), padding=(1, 1))\n",
            "    (24): ReLU(inplace=True)\n",
            "    (25): Conv2d(512, 512, kernel_size=(3, 3), stride=(1, 1), padding=(1, 1))\n",
            "    (26): ReLU(inplace=True)\n",
            "    (27): MaxPool2d(kernel_size=2, stride=2, padding=0, dilation=1, ceil_mode=False)\n",
            "    (28): Conv2d(512, 512, kernel_size=(3, 3), stride=(1, 1), padding=(1, 1))\n",
            "    (29): ReLU(inplace=True)\n",
            "    (30): Conv2d(512, 512, kernel_size=(3, 3), stride=(1, 1), padding=(1, 1))\n",
            "    (31): ReLU(inplace=True)\n",
            "    (32): Conv2d(512, 512, kernel_size=(3, 3), stride=(1, 1), padding=(1, 1))\n",
            "    (33): ReLU(inplace=True)\n",
            "    (34): Conv2d(512, 512, kernel_size=(3, 3), stride=(1, 1), padding=(1, 1))\n",
            "    (35): ReLU(inplace=True)\n",
            "    (36): MaxPool2d(kernel_size=2, stride=2, padding=0, dilation=1, ceil_mode=False)\n",
            "  )\n",
            "  (avgpool): AdaptiveAvgPool2d(output_size=7)\n",
            "  (classifier): Sequential(\n",
            "    (0): Linear(in_features=25088, out_features=4096, bias=True)\n",
            "    (1): ReLU(inplace=True)\n",
            "    (2): Dropout(p=0.5, inplace=False)\n",
            "    (3): Linear(in_features=4096, out_features=4096, bias=True)\n",
            "    (4): ReLU(inplace=True)\n",
            "    (5): Dropout(p=0.5, inplace=False)\n",
            "    (6): Linear(in_features=4096, out_features=10, bias=True)\n",
            "  )\n",
            ")\n"
          ]
        }
      ]
    },
    {
      "cell_type": "code",
      "source": [
        "import torchvision.models as models\n",
        "\n",
        "pretrained_model = models.vgg19(pretrained=True)\n",
        "\n",
        "print(pretrained_model)"
      ],
      "metadata": {
        "id": "BDSOA4oHFFdk",
        "colab": {
          "base_uri": "https://localhost:8080/",
          "height": 951,
          "referenced_widgets": [
            "d66c43ee1b644116b4fd0f4ef4e914f9",
            "c725ca5c13f3426c93694a821d95bf0e",
            "7f3228d531f74b518e0253a3c886066b",
            "66c0ff6330c14c7e93cdee6d680b2b84",
            "9134071d9f5a48d5ad3cd5ca97f3083d",
            "3bbd005c70784ca1bfd7d48acf61c557",
            "3ebd675654c34ca29b08a434ca5d66c5",
            "5bf6795481904a4cb3203d05259265bf",
            "e1f9dd4e02174d859912fb12d7d70c32",
            "b1dc5ee70d5b4223b5335cf7c2e3b735",
            "2aa325ee552c4e5cbccf651c2bd3add9"
          ]
        },
        "outputId": "2ef8dca2-e477-414a-af6c-e81ceb513f0d"
      },
      "execution_count": null,
      "outputs": [
        {
          "output_type": "stream",
          "name": "stderr",
          "text": [
            "Downloading: \"https://download.pytorch.org/models/vgg19-dcbb9e9d.pth\" to /root/.cache/torch/hub/checkpoints/vgg19-dcbb9e9d.pth\n"
          ]
        },
        {
          "output_type": "display_data",
          "data": {
            "text/plain": [
              "  0%|          | 0.00/548M [00:00<?, ?B/s]"
            ],
            "application/vnd.jupyter.widget-view+json": {
              "version_major": 2,
              "version_minor": 0,
              "model_id": "d66c43ee1b644116b4fd0f4ef4e914f9"
            }
          },
          "metadata": {}
        },
        {
          "output_type": "stream",
          "name": "stdout",
          "text": [
            "VGG(\n",
            "  (features): Sequential(\n",
            "    (0): Conv2d(3, 64, kernel_size=(3, 3), stride=(1, 1), padding=(1, 1))\n",
            "    (1): ReLU(inplace=True)\n",
            "    (2): Conv2d(64, 64, kernel_size=(3, 3), stride=(1, 1), padding=(1, 1))\n",
            "    (3): ReLU(inplace=True)\n",
            "    (4): MaxPool2d(kernel_size=2, stride=2, padding=0, dilation=1, ceil_mode=False)\n",
            "    (5): Conv2d(64, 128, kernel_size=(3, 3), stride=(1, 1), padding=(1, 1))\n",
            "    (6): ReLU(inplace=True)\n",
            "    (7): Conv2d(128, 128, kernel_size=(3, 3), stride=(1, 1), padding=(1, 1))\n",
            "    (8): ReLU(inplace=True)\n",
            "    (9): MaxPool2d(kernel_size=2, stride=2, padding=0, dilation=1, ceil_mode=False)\n",
            "    (10): Conv2d(128, 256, kernel_size=(3, 3), stride=(1, 1), padding=(1, 1))\n",
            "    (11): ReLU(inplace=True)\n",
            "    (12): Conv2d(256, 256, kernel_size=(3, 3), stride=(1, 1), padding=(1, 1))\n",
            "    (13): ReLU(inplace=True)\n",
            "    (14): Conv2d(256, 256, kernel_size=(3, 3), stride=(1, 1), padding=(1, 1))\n",
            "    (15): ReLU(inplace=True)\n",
            "    (16): Conv2d(256, 256, kernel_size=(3, 3), stride=(1, 1), padding=(1, 1))\n",
            "    (17): ReLU(inplace=True)\n",
            "    (18): MaxPool2d(kernel_size=2, stride=2, padding=0, dilation=1, ceil_mode=False)\n",
            "    (19): Conv2d(256, 512, kernel_size=(3, 3), stride=(1, 1), padding=(1, 1))\n",
            "    (20): ReLU(inplace=True)\n",
            "    (21): Conv2d(512, 512, kernel_size=(3, 3), stride=(1, 1), padding=(1, 1))\n",
            "    (22): ReLU(inplace=True)\n",
            "    (23): Conv2d(512, 512, kernel_size=(3, 3), stride=(1, 1), padding=(1, 1))\n",
            "    (24): ReLU(inplace=True)\n",
            "    (25): Conv2d(512, 512, kernel_size=(3, 3), stride=(1, 1), padding=(1, 1))\n",
            "    (26): ReLU(inplace=True)\n",
            "    (27): MaxPool2d(kernel_size=2, stride=2, padding=0, dilation=1, ceil_mode=False)\n",
            "    (28): Conv2d(512, 512, kernel_size=(3, 3), stride=(1, 1), padding=(1, 1))\n",
            "    (29): ReLU(inplace=True)\n",
            "    (30): Conv2d(512, 512, kernel_size=(3, 3), stride=(1, 1), padding=(1, 1))\n",
            "    (31): ReLU(inplace=True)\n",
            "    (32): Conv2d(512, 512, kernel_size=(3, 3), stride=(1, 1), padding=(1, 1))\n",
            "    (33): ReLU(inplace=True)\n",
            "    (34): Conv2d(512, 512, kernel_size=(3, 3), stride=(1, 1), padding=(1, 1))\n",
            "    (35): ReLU(inplace=True)\n",
            "    (36): MaxPool2d(kernel_size=2, stride=2, padding=0, dilation=1, ceil_mode=False)\n",
            "  )\n",
            "  (avgpool): AdaptiveAvgPool2d(output_size=(7, 7))\n",
            "  (classifier): Sequential(\n",
            "    (0): Linear(in_features=25088, out_features=4096, bias=True)\n",
            "    (1): ReLU(inplace=True)\n",
            "    (2): Dropout(p=0.5, inplace=False)\n",
            "    (3): Linear(in_features=4096, out_features=4096, bias=True)\n",
            "    (4): ReLU(inplace=True)\n",
            "    (5): Dropout(p=0.5, inplace=False)\n",
            "    (6): Linear(in_features=4096, out_features=1000, bias=True)\n",
            "  )\n",
            ")\n"
          ]
        }
      ]
    },
    {
      "cell_type": "code",
      "source": [
        "# IN_FEATURES = pretrained_model.classifier[-1].in_features\n",
        "\n",
        "# final_fc = nn.Linear(IN_FEATURES, OUTPUT_DIM)\n",
        "# pretrained_model.classifier[-1] = final_fc\n",
        "# model.load_state_dict(pretrained_model.state_dict())"
      ],
      "metadata": {
        "id": "4EoRxOO8NYck"
      },
      "execution_count": null,
      "outputs": []
    },
    {
      "cell_type": "code",
      "source": [
        "pretrained_size = 224\n",
        "pretrained_means = [0.485, 0.456, 0.406]\n",
        "pretrained_stds = [0.229, 0.224, 0.225]\n",
        "\n",
        "# train_transforms = transforms.Compose([\n",
        "#                            transforms.Resize(pretrained_size),\n",
        "#                            transforms.RandomRotation(5),\n",
        "#                            transforms.RandomHorizontalFlip(0.5),\n",
        "#                            transforms.RandomCrop(pretrained_size, padding=10),\n",
        "#                            transforms.ToTensor(),\n",
        "#                            transforms.Normalize(mean=pretrained_means,\n",
        "#                                                 std=pretrained_stds)\n",
        "                      #  ])\n",
        "\n",
        "test_transforms = transforms.Compose([\n",
        "                           transforms.Resize(pretrained_size),\n",
        "                           transforms.ToTensor(),\n",
        "                           transforms.Normalize(mean=pretrained_means,\n",
        "                                                std=pretrained_stds)\n",
        "                       ])"
      ],
      "metadata": {
        "id": "xaWpkLmiFeU6"
      },
      "execution_count": null,
      "outputs": []
    },
    {
      "cell_type": "code",
      "source": [
        "ROOT = '.data'\n",
        "\n",
        "# train_data = datasets.CIFAR10(ROOT,\n",
        "#                               train=True,\n",
        "#                               download=True,\n",
        "#                               transform=train_transforms)\n",
        "\n",
        "test_data = datasets.CIFAR10(ROOT,\n",
        "                             train=False,\n",
        "                             download=True,\n",
        "                             transform=test_transforms)"
      ],
      "metadata": {
        "colab": {
          "base_uri": "https://localhost:8080/"
        },
        "id": "Lv12Gty4FpEF",
        "outputId": "40d35451-c1e7-4283-a0ea-6eaab3b473c5"
      },
      "execution_count": null,
      "outputs": [
        {
          "output_type": "stream",
          "name": "stdout",
          "text": [
            "Files already downloaded and verified\n"
          ]
        }
      ]
    },
    {
      "cell_type": "code",
      "source": [
        "# class Sampler():\n",
        "#     def __init__(self, mask):\n",
        "#         self.mask = mask\n",
        "\n",
        "#     def __iter__(self):\n",
        "#         return (self.indices[i] for i in torch.nonzero(self.mask))\n",
        "\n",
        "#     def __len__(self):\n",
        "#         return len(self.mask)\n",
        "\n",
        "# train_sample = Sampler(1000)\n",
        "# validation_sample = Sampler(500)\n",
        "# test_sample = Sampler(500)"
      ],
      "metadata": {
        "id": "hTvXrsxOVmiS"
      },
      "execution_count": null,
      "outputs": []
    },
    {
      "cell_type": "code",
      "source": [
        "# VALID_RATIO = 0.9\n",
        "\n",
        "# n_train_examples = int(len(train_data) * VALID_RATIO)\n",
        "# n_valid_examples = len(train_data) - n_train_examples\n",
        "\n",
        "# train_data, valid_data = data.random_split(train_data,\n",
        "#                                            [n_train_examples, n_valid_examples])"
      ],
      "metadata": {
        "id": "Guntpl8WNocK"
      },
      "execution_count": null,
      "outputs": []
    },
    {
      "cell_type": "code",
      "source": [
        "# valid_data = copy.deepcopy(valid_data)\n",
        "# valid_data.dataset.transform = test_transforms"
      ],
      "metadata": {
        "id": "5_5TVBj6OWbG"
      },
      "execution_count": null,
      "outputs": []
    },
    {
      "cell_type": "code",
      "source": [
        "# print(f'Number of training examples: {len(train_data)}')\n",
        "# print(f'Number of validation examples: {len(valid_data)}')\n",
        "print(f'Number of testing examples: {len(test_data)}')"
      ],
      "metadata": {
        "colab": {
          "base_uri": "https://localhost:8080/"
        },
        "id": "YNr51STdOZzm",
        "outputId": "4972edd5-71ad-4793-f652-523e37bdf62d"
      },
      "execution_count": null,
      "outputs": [
        {
          "output_type": "stream",
          "name": "stdout",
          "text": [
            "Number of testing examples: 10000\n"
          ]
        }
      ]
    },
    {
      "cell_type": "code",
      "source": [
        "BATCH_SIZE = 128\n",
        "\n",
        "# train_iterator = data.DataLoader(train_data,\n",
        "#                                  shuffle=True,\n",
        "#                                  batch_size=BATCH_SIZE)\n",
        "\n",
        "# valid_iterator = data.DataLoader(valid_data,\n",
        "#                                  batch_size=BATCH_SIZE)\n",
        "\n",
        "test_iterator = data.DataLoader(test_data,\n",
        "                                batch_size=BATCH_SIZE)"
      ],
      "metadata": {
        "id": "UdF6dMlWHDMl"
      },
      "execution_count": null,
      "outputs": []
    },
    {
      "cell_type": "code",
      "source": [
        "# FOUND_LR = 5e-4\n",
        "\n",
        "# # params = [\n",
        "# #           {'params': model.features.parameters(), 'lr': FOUND_LR / 10},\n",
        "# #           {'params': model.classifier.parameters()}\n",
        "# #          ]\n",
        "\n",
        "# optimizer = optim.Adam(model.parameters(), lr=FOUND_LR)\n",
        "\n",
        "device = torch.device('cuda' if torch.cuda.is_available() else 'cpu')\n",
        "\n",
        "# criterion = nn.CrossEntropyLoss()\n",
        "\n",
        "# model = model.to(device)\n",
        "# criterion = criterion.to(device)"
      ],
      "metadata": {
        "id": "GctKABzJHHi_"
      },
      "execution_count": null,
      "outputs": []
    },
    {
      "cell_type": "code",
      "source": [
        "# def calculate_accuracy(y_pred, y):\n",
        "#     top_pred = y_pred.argmax(1, keepdim=True)\n",
        "#     correct = top_pred.eq(y.view_as(top_pred)).sum()\n",
        "#     acc = correct.float() / y.shape[0]\n",
        "#     return acc"
      ],
      "metadata": {
        "id": "mzgglWgmRPEl"
      },
      "execution_count": null,
      "outputs": []
    },
    {
      "cell_type": "code",
      "source": [
        "# def train(model, iterator, optimizer, criterion, device):\n",
        "\n",
        "#     epoch_loss = 0\n",
        "#     epoch_acc = 0\n",
        "\n",
        "#     model.train()\n",
        "\n",
        "#     for (x, y) in tqdm(iterator, desc=\"Training\", leave=False):\n",
        "\n",
        "#         x = x.to(device)\n",
        "#         y = y.to(device)\n",
        "\n",
        "#         optimizer.zero_grad()\n",
        "\n",
        "#         y_pred, _ = model(x)\n",
        "\n",
        "#         loss = criterion(y_pred, y)\n",
        "\n",
        "#         acc = calculate_accuracy(y_pred, y)\n",
        "\n",
        "#         loss.backward()\n",
        "\n",
        "#         optimizer.step()\n",
        "\n",
        "#         epoch_loss += loss.item()\n",
        "#         epoch_acc += acc.item()\n",
        "\n",
        "#     return epoch_loss / len(iterator), epoch_acc / len(iterator)"
      ],
      "metadata": {
        "id": "iIUnK7a-Rp9i"
      },
      "execution_count": null,
      "outputs": []
    },
    {
      "cell_type": "code",
      "source": [
        "# def evaluate(model, iterator, criterion, device):\n",
        "\n",
        "#     epoch_loss = 0\n",
        "#     epoch_acc = 0\n",
        "\n",
        "#     model.eval()\n",
        "\n",
        "#     with torch.no_grad():\n",
        "\n",
        "#         for (x, y) in tqdm(iterator, desc=\"Evaluating\", leave=False):\n",
        "\n",
        "#             x = x.to(device)\n",
        "#             y = y.to(device)\n",
        "\n",
        "#             y_pred, _ = model(x)\n",
        "\n",
        "#             loss = criterion(y_pred, y)\n",
        "\n",
        "#             acc = calculate_accuracy(y_pred, y)\n",
        "\n",
        "#             epoch_loss += loss.item()\n",
        "#             epoch_acc += acc.item()\n",
        "\n",
        "#     return epoch_loss / len(iterator), epoch_acc / len(iterator)"
      ],
      "metadata": {
        "id": "vVVVn4l6Rs74"
      },
      "execution_count": null,
      "outputs": []
    },
    {
      "cell_type": "code",
      "source": [
        "# EPOCHS = 5\n",
        "\n",
        "# best_valid_loss = float('inf')\n",
        "\n",
        "# for epoch in trange(EPOCHS, desc=\"Epochs\"):\n",
        "\n",
        "#     start_time = time.monotonic()\n",
        "\n",
        "#     train_loss, train_acc = train(model, train_iterator, optimizer, criterion, device)\n",
        "#     valid_loss, valid_acc = evaluate(model, valid_iterator, criterion, device)\n",
        "\n",
        "#     if valid_loss < best_valid_loss:\n",
        "#         best_valid_loss = valid_loss\n",
        "#         torch.save(model.state_dict(), 'tut4-model.pt')\n",
        "\n",
        "#     end_time = time.monotonic()\n",
        "\n",
        "#     epoch_mins, epoch_secs = epoch_time(start_time, end_time)\n",
        "    \n",
        "#     print(f'Epoch: {epoch+1:02} | Epoch Time: {epoch_mins}m {epoch_secs}s')\n",
        "#     print(f'\\tTrain Loss: {train_loss:.3f} | Train Acc: {train_acc*100:.2f}%')\n",
        "#     print(f'\\t Val. Loss: {valid_loss:.3f} |  Val. Acc: {valid_acc*100:.2f}%')"
      ],
      "metadata": {
        "id": "E9X1FSCbR09-"
      },
      "execution_count": null,
      "outputs": []
    },
    {
      "cell_type": "code",
      "source": [
        "# model.load_state_dict(torch.load('/content/drive/MyDrive/vgg19_1000.pt', map_location=torch.device('cpu')))\n",
        "\n",
        "# test_loss, test_acc = evaluate(model, test_iterator, criterion, device)\n",
        "\n",
        "# print(f'Test Loss: {test_loss:.3f} | Test Acc: {test_acc*100:.2f}%')"
      ],
      "metadata": {
        "id": "v-qj_9qyR8C9"
      },
      "execution_count": null,
      "outputs": []
    },
    {
      "cell_type": "code",
      "source": [
        "def get_predictions(model, iterator):\n",
        "\n",
        "    model.eval().to(device)\n",
        "\n",
        "    images = []\n",
        "    labels = []\n",
        "    probs = []\n",
        "\n",
        "    with torch.no_grad():\n",
        "\n",
        "        for (x, y) in tqdm(iterator):\n",
        "\n",
        "            x = x.to(device)\n",
        "\n",
        "            y_pred, _ = model(x)\n",
        "\n",
        "            y_prob = F.softmax(y_pred, dim=-1)\n",
        "\n",
        "            # images.append(x.cpu())\n",
        "            labels.append(y.cpu())\n",
        "            probs.append(y_prob.cpu())\n",
        "\n",
        "    # images = torch.cat(images, dim=0)\n",
        "    labels = torch.cat(labels, dim=0)\n",
        "    probs = torch.cat(probs, dim=0)\n",
        "\n",
        "    return labels, probs"
      ],
      "metadata": {
        "id": "y1ORik41Hk6c"
      },
      "execution_count": null,
      "outputs": []
    },
    {
      "cell_type": "code",
      "source": [
        "# test_iterator.shape\n",
        "labels, probs = get_predictions(pretrained_model, test_iterator)\n",
        "pred_labels = torch.argmax(probs, 1)\n"
      ],
      "metadata": {
        "id": "vg5WyAwhHypA"
      },
      "execution_count": null,
      "outputs": []
    },
    {
      "cell_type": "code",
      "source": [
        "print(labels)\n",
        "print(pred_labels)"
      ],
      "metadata": {
        "id": "KoCuw7jXlX0l",
        "colab": {
          "base_uri": "https://localhost:8080/"
        },
        "outputId": "1dfa1194-3770-4a7c-b679-6c8a37143865"
      },
      "execution_count": null,
      "outputs": [
        {
          "output_type": "stream",
          "name": "stdout",
          "text": [
            "tensor([3, 8, 8,  ..., 5, 1, 7])\n",
            "tensor([3, 8, 8,  ..., 5, 1, 7])\n"
          ]
        }
      ]
    },
    {
      "cell_type": "code",
      "source": [
        "# def get_representations(model, iterator):\n",
        "\n",
        "#     model.eval()\n",
        "\n",
        "#     outputs = []\n",
        "#     labels = []\n",
        "\n",
        "#     with torch.no_grad():\n",
        "\n",
        "#         for (x, y) in tqdm(iterator):\n",
        "\n",
        "#             x = x.to(device)\n",
        "\n",
        "#             y_pred, _ = model(x)\n",
        "\n",
        "#             outputs.append(y_pred.cpu())\n",
        "#             labels.append(y)\n",
        "\n",
        "#     outputs = torch.cat(outputs, dim=0)\n",
        "#     labels = torch.cat(labels, dim=0)\n",
        "\n",
        "#     return outputs, labels"
      ],
      "metadata": {
        "id": "BzCks-xoKWl7"
      },
      "execution_count": null,
      "outputs": []
    },
    {
      "cell_type": "code",
      "source": [
        "# outputs, labels = get_representations(model, train_iterator)"
      ],
      "metadata": {
        "id": "A5YVaaHnKcJt"
      },
      "execution_count": null,
      "outputs": []
    },
    {
      "cell_type": "code",
      "source": [
        "\n",
        "\n",
        "# class CNN(torch.nn.Module):\n",
        "#     \"\"\"Basic CNN architecture.\"\"\"\n",
        "\n",
        "#     def __init__(self, in_channels=1):\n",
        "#         super(CNN, self).__init__()\n",
        "#         self.conv1 = nn.Conv2d(in_channels, 64, 8, 1)\n",
        "#         self.conv2 = nn.Conv2d(64, 128, 6, 2)\n",
        "#         self.conv3 = nn.Conv2d(128, 128, 5, 2)\n",
        "#         self.fc = nn.Linear(128 * 3 * 3, 10)\n",
        "\n",
        "#     def forward(self, x):\n",
        "#         x = F.relu(self.conv1(x))\n",
        "#         x = F.relu(self.conv2(x))\n",
        "#         x = F.relu(self.conv3(x))\n",
        "#         x = x.view(-1, 128 * 3 * 3)\n",
        "#         x = self.fc(x)\n",
        "#         return x\n",
        "\n",
        "\n",
        "# def  ld_cifar10 ():\n",
        "#     \"\"\"Load training and test data.\"\"\"\n",
        "#     train_transforms = torchvision.transforms.Compose(\n",
        "#         [torchvision.transforms.ToTensor()]\n",
        "#     )\n",
        "#     test_transforms = torchvision.transforms.Compose(\n",
        "#         [torchvision.transforms.ToTensor()]\n",
        "#     )\n",
        "#     train_dataset = torchvision.datasets.CIFAR10(\n",
        "#         root=\"/tmp/data\", train=True, transform=train_transforms, download=True\n",
        "#     )\n",
        "#     test_dataset = torchvision.datasets.CIFAR10(\n",
        "#         root=\"/tmp/data\", train=False, transform=test_transforms, download=True\n",
        "#     )\n",
        "#     train_loader = torch.utils.data.DataLoader(\n",
        "#         train_dataset, batch_size=128, shuffle=True, num_workers=2\n",
        "#     )\n",
        "#     test_loader = torch.utils.data.DataLoader(\n",
        "#         test_dataset, batch_size=128, shuffle=False, num_workers=2\n",
        "#     )\n",
        "#     return EasyDict(train=train_loader, test=test_loader)\n",
        "\n",
        "\n",
        "# def get_perturbed_image(net, data):\n",
        "    \n",
        "    # Load training and test data\n",
        "    # data = ld_cifar10()\n",
        "\n",
        "    # Instantiate model, loss, and optimizer for training\n",
        "    # net = CNN(in_channels=3)\n",
        "device = \"cuda\" if torch.cuda.is_available() else \"cpu\"\n",
        "    # if  device  ==  \"miracles\" :\n",
        "        # net  =  net . cuda ()\n",
        "loss_fn = torch.nn.CrossEntropyLoss()\n",
        "optimizer = torch.optim.Adam(model.parameters(), lr=1e-3)\n",
        "\n",
        "    # Train vanilla model\n",
        "    # net.train().to(device)\n",
        "    # for epoch in range(1, 15):\n",
        "        # train_loss = 0.0\n",
        "        # for x, y in data.train:\n",
        "            # x, y = x.to(device), y.to(device)\n",
        "            # if FLAGS.adv_train:\n",
        "                # Replace clean example with adversarial example for adversarial training\n",
        "                # x = projected_gradient_descent(net, x, 0.3, 0.01, 40, np.inf)\n",
        "            # optimizer.zero_grad()\n",
        "            # loss = loss_fn(net(x), y)\n",
        "            # loss.backward()\n",
        "            # optimizer.step()\n",
        "            # train_loss += loss.item()\n",
        "        # print(\n",
        "            # \"epoch: {}/{}, train loss: {:.3f}\".format(\n",
        "                # epoch, 60, train_loss\n",
        "            # )\n",
        "        # )\n",
        "\n",
        "    # Evaluate on clean and adversarial data\n",
        "pretrained_model.eval().to(device)\n",
        "    # report = EasyDict(nb_test=0, correct=0, correct_fgm=0, correct_pgd=0)\n",
        "    # images=[]\n",
        "    # for x, y in data:\n",
        "    # print(data.test)\n",
        "x, y = next(iter(test_iterator))\n",
        "\n",
        "x, y = x.to(device), y.to(device)\n",
        "\n",
        "x_fgm = fast_gradient_method(pretrained_model, x, 0.3,2)\n",
        "    # images.append(x_fgm.cpu())\n",
        "    # print(x_fgm.shape, x.shape)\n",
        "\n",
        "    # x_pgd = projected_gradient_descent(net, x, 0.3, 0.01, 50, 2)\n",
        "\n",
        "    \n",
        "    # f, axarr = plt.subplots(1,3)\n",
        "    # axarr[0].imshow(x[10].cpu().detach().permute(1, 2, 0))\n",
        "    # axarr[1].imshow(x_fgm[10].cpu().detach().permute(1, 2, 0))\n",
        "    # axarr[2].imshow(x_pgd[10].cpu().detach().permute(1, 2, 0))\n",
        "_, y_pred = model(x).max(1)  # model prediction on clean examples\n",
        "_, y_pred_fgm = model(x_fgm).max(1)  # model prediction on FGM adversarial examples\n",
        "    # # _ , y_pred_pgd  =  net ( x_pgd ). max (1)\n",
        "    #   print(\"Original label:\",y, \"\\nPredected label without attack:\", y_pred, \"\\nPredected label after FGM attack:\" , y_pred_fgm,  \"\\nPredected label after PGD attack:\", y_pred_pgd)\n",
        "  # return images\n",
        "\n",
        "\n",
        "# if __name__ == \"__main__\":\n",
        "    # flags.DEFINE_integer(\"nb_epochs\", 8, \"Number of epochs.\")\n",
        "    # flags.DEFINE_float(\"eps\", 0.3, \"Total epsilon for FGM and PGD attacks.\")\n",
        "    # flags.DEFINE_bool(\n",
        "        # \"adv_train\", False, \"Use adversarial training (on PGD adversarial examples).\"\n",
        "    # )"
      ],
      "metadata": {
        "id": "g9SI0eZ66aTN"
      },
      "execution_count": null,
      "outputs": []
    },
    {
      "cell_type": "code",
      "source": [
        "print(x_fgm.shape)"
      ],
      "metadata": {
        "colab": {
          "base_uri": "https://localhost:8080/"
        },
        "id": "kk75js6ZYQNq",
        "outputId": "83ebfee4-ad82-4ab1-fe27-3c8497cddf3a"
      },
      "execution_count": null,
      "outputs": [
        {
          "output_type": "stream",
          "name": "stdout",
          "text": [
            "torch.Size([32, 3, 224, 224])\n"
          ]
        }
      ]
    },
    {
      "cell_type": "code",
      "source": [
        "f, axarr = plt.subplots(1,3)\n",
        "axarr[0].imshow(x_fgm[10].cpu().detach().permute(1, 2, 0))\n",
        "axarr[1].imshow(x_fgm[11].cpu().detach().permute(1, 2, 0))\n",
        "axarr[2].imshow(x_fgm[12].cpu().detach().permute(1, 2, 0))"
      ],
      "metadata": {
        "colab": {
          "base_uri": "https://localhost:8080/",
          "height": 219
        },
        "id": "1J6oeF6sYcKf",
        "outputId": "aedd32a3-e1ee-47c9-e5ee-760b8468b58f"
      },
      "execution_count": null,
      "outputs": [
        {
          "output_type": "stream",
          "name": "stderr",
          "text": [
            "Clipping input data to the valid range for imshow with RGB data ([0..1] for floats or [0..255] for integers).\n",
            "Clipping input data to the valid range for imshow with RGB data ([0..1] for floats or [0..255] for integers).\n",
            "Clipping input data to the valid range for imshow with RGB data ([0..1] for floats or [0..255] for integers).\n"
          ]
        },
        {
          "output_type": "execute_result",
          "data": {
            "text/plain": [
              "<matplotlib.image.AxesImage at 0x7fcf3a226e90>"
            ]
          },
          "metadata": {},
          "execution_count": 91
        },
        {
          "output_type": "display_data",
          "data": {
            "text/plain": [
              "<Figure size 432x288 with 3 Axes>"
            ],
            "image/png": "[encoded data removed]"
          },
          "metadata": {
            "needs_background": "light"
          }
        }
      ]
    },
    {
      "cell_type": "code",
      "source": [
        "# data = EasyDict(test=data)\n",
        "adv_data = get_perturbed_image(model, test_iterator)"
      ],
      "metadata": {
        "id": "fbgDaG6qDq-Z"
      },
      "execution_count": null,
      "outputs": []
    },
    {
      "cell_type": "code",
      "source": [
        "from google.colab.patches import cv2_imshow\n",
        "import cv2\n",
        "import numpy as np\n",
        "\n",
        "assert train_img.shape == (50, 32, 32, 3)\n",
        "img = np.empty((50, 224, 224, 3), dtype='float16')\n",
        "for (k, image) in enumerate(train_img):\n",
        "    img[k] = cv2.resize(image, dsize=(224, 224))\n",
        "\n",
        "# img = cv2.resize(x_train, (x_train.shape[0], 224, 224))\n",
        "cv2_imshow(img[0])\n",
        "# img = img.reshape(img.shape[0], img.shape[3], img.shape[1], img.shape[2])\n",
        "print(img.shape)"
      ],
      "metadata": {
        "colab": {
          "base_uri": "https://localhost:8080/",
          "height": 258
        },
        "id": "j-OfR3hV851w",
        "outputId": "1fa387a5-ea07-461a-fb0a-a29d9fb37865"
      },
      "execution_count": null,
      "outputs": [
        {
          "output_type": "display_data",
          "data": {
            "text/plain": [
              "<PIL.Image.Image image mode=RGB size=224x224 at 0x7FA0E36EC890>"
            ],
            "image/png": "[encoded data removed]"
          },
          "metadata": {}
        },
        {
          "output_type": "stream",
          "name": "stdout",
          "text": [
            "(50, 224, 224, 3)\n"
          ]
        }
      ]
    },
    {
      "cell_type": "code",
      "source": [
        "# load the model\n",
        "model = VGG19()\n",
        "model.summary()"
      ],
      "metadata": {
        "colab": {
          "base_uri": "https://localhost:8080/"
        },
        "id": "6DxvBRmF8_G4",
        "outputId": "14859961-a75b-49db-8ec4-6ff603195b54"
      },
      "execution_count": null,
      "outputs": [
        {
          "output_type": "stream",
          "name": "stdout",
          "text": [
            "Downloading data from https://storage.googleapis.com/tensorflow/keras-applications/vgg19/vgg19_weights_tf_dim_ordering_tf_kernels.h5\n",
            "574717952/574710816 [==============================] - 18s 0us/step\n",
            "574726144/574710816 [==============================] - 18s 0us/step\n",
            "Model: \"vgg19\"\n",
            "_________________________________________________________________\n",
            " Layer (type)                Output Shape              Param #   \n",
            "=================================================================\n",
            " input_1 (InputLayer)        [(None, 224, 224, 3)]     0         \n",
            "                                                                 \n",
            " block1_conv1 (Conv2D)       (None, 224, 224, 64)      1792      \n",
            "                                                                 \n",
            " block1_conv2 (Conv2D)       (None, 224, 224, 64)      36928     \n",
            "                                                                 \n",
            " block1_pool (MaxPooling2D)  (None, 112, 112, 64)      0         \n",
            "                                                                 \n",
            " block2_conv1 (Conv2D)       (None, 112, 112, 128)     73856     \n",
            "                                                                 \n",
            " block2_conv2 (Conv2D)       (None, 112, 112, 128)     147584    \n",
            "                                                                 \n",
            " block2_pool (MaxPooling2D)  (None, 56, 56, 128)       0         \n",
            "                                                                 \n",
            " block3_conv1 (Conv2D)       (None, 56, 56, 256)       295168    \n",
            "                                                                 \n",
            " block3_conv2 (Conv2D)       (None, 56, 56, 256)       590080    \n",
            "                                                                 \n",
            " block3_conv3 (Conv2D)       (None, 56, 56, 256)       590080    \n",
            "                                                                 \n",
            " block3_conv4 (Conv2D)       (None, 56, 56, 256)       590080    \n",
            "                                                                 \n",
            " block3_pool (MaxPooling2D)  (None, 28, 28, 256)       0         \n",
            "                                                                 \n",
            " block4_conv1 (Conv2D)       (None, 28, 28, 512)       1180160   \n",
            "                                                                 \n",
            " block4_conv2 (Conv2D)       (None, 28, 28, 512)       2359808   \n",
            "                                                                 \n",
            " block4_conv3 (Conv2D)       (None, 28, 28, 512)       2359808   \n",
            "                                                                 \n",
            " block4_conv4 (Conv2D)       (None, 28, 28, 512)       2359808   \n",
            "                                                                 \n",
            " block4_pool (MaxPooling2D)  (None, 14, 14, 512)       0         \n",
            "                                                                 \n",
            " block5_conv1 (Conv2D)       (None, 14, 14, 512)       2359808   \n",
            "                                                                 \n",
            " block5_conv2 (Conv2D)       (None, 14, 14, 512)       2359808   \n",
            "                                                                 \n",
            " block5_conv3 (Conv2D)       (None, 14, 14, 512)       2359808   \n",
            "                                                                 \n",
            " block5_conv4 (Conv2D)       (None, 14, 14, 512)       2359808   \n",
            "                                                                 \n",
            " block5_pool (MaxPooling2D)  (None, 7, 7, 512)         0         \n",
            "                                                                 \n",
            " flatten (Flatten)           (None, 25088)             0         \n",
            "                                                                 \n",
            " fc1 (Dense)                 (None, 4096)              102764544 \n",
            "                                                                 \n",
            " fc2 (Dense)                 (None, 4096)              16781312  \n",
            "                                                                 \n",
            " predictions (Dense)         (None, 1000)              4097000   \n",
            "                                                                 \n",
            "=================================================================\n",
            "Total params: 143,667,240\n",
            "Trainable params: 143,667,240\n",
            "Non-trainable params: 0\n",
            "_________________________________________________________________\n"
          ]
        }
      ]
    },
    {
      "cell_type": "code",
      "source": [
        "# redefine model to get the output of flatten to last layer\n",
        "ixs = [22, 23, 24,25]\n",
        "outputs = [model.layers[i].output for i in ixs]\n",
        "print(outputs)"
      ],
      "metadata": {
        "colab": {
          "base_uri": "https://localhost:8080/"
        },
        "id": "qb_7TrWC9DND",
        "outputId": "58446758-8eac-4e5f-96ba-8e4b9d2d3962"
      },
      "execution_count": null,
      "outputs": [
        {
          "output_type": "stream",
          "name": "stdout",
          "text": [
            "[<KerasTensor: shape=(None, 25088) dtype=float32 (created by layer 'flatten')>, <KerasTensor: shape=(None, 4096) dtype=float32 (created by layer 'fc1')>, <KerasTensor: shape=(None, 4096) dtype=float32 (created by layer 'fc2')>, <KerasTensor: shape=(None, 1000) dtype=float32 (created by layer 'predictions')>]\n"
          ]
        }
      ]
    },
    {
      "cell_type": "code",
      "source": [
        "# calculation of  pertial derivative\n",
        "import tensorflow as tf\n",
        "import numpy as np\n",
        "\n",
        "with tf.GradientTape() as tape:\n",
        "  # Forward pass\n",
        "  modified_model = Model(inputs=model.inputs, outputs=outputs)\n",
        "  x = modified_model(img)\n",
        "  # heighest_prob = np.max(x[-1]) \n",
        "\n",
        "# print(heighest_prob)\n",
        "# x = model.predict(img)\n",
        "predictions = x[-1]\n",
        "print(predictions.shape)\n",
        "flatten_layer_output = x[0]\n",
        "print(flatten_layer_output.shape)\n",
        "# Calculate gradients with respect to every trainable variable\n",
        "grad = tape.gradient(predictions, flatten_layer_output)\n",
        "print(grad)\n"
      ],
      "metadata": {
        "colab": {
          "base_uri": "https://localhost:8080/"
        },
        "id": "cYW-CThD9YLV",
        "outputId": "a94de2ef-f270-47ee-9691-ab89eac574cc"
      },
      "execution_count": null,
      "outputs": [
        {
          "output_type": "stream",
          "name": "stdout",
          "text": [
            "(50, 1000)\n",
            "(50, 25088)\n",
            "tf.Tensor(\n",
            "[[-2.7027872e-12  1.0881969e-10  2.7703598e-10 ... -4.1118609e-11\n",
            "   3.2132852e-10  2.7117636e-10]\n",
            " [-6.0397541e-11 -1.4788332e-10 -5.0067020e-11 ... -1.4363966e-10\n",
            "   4.1080597e-11 -2.2662396e-11]\n",
            " [ 0.0000000e+00  0.0000000e+00  0.0000000e+00 ...  0.0000000e+00\n",
            "   0.0000000e+00  0.0000000e+00]\n",
            " ...\n",
            " [-2.5023109e-11  3.9974992e-11  2.7375784e-11 ...  2.8500993e-11\n",
            "   4.1549333e-11  1.3782159e-11]\n",
            " [ 0.0000000e+00  0.0000000e+00  0.0000000e+00 ...  0.0000000e+00\n",
            "   0.0000000e+00  0.0000000e+00]\n",
            " [ 0.0000000e+00  0.0000000e+00  0.0000000e+00 ...  0.0000000e+00\n",
            "   0.0000000e+00  0.0000000e+00]], shape=(50, 25088), dtype=float32)\n"
          ]
        }
      ]
    },
    {
      "cell_type": "code",
      "source": [
        "# output of probabilities\n",
        "print(predictions.shape)"
      ],
      "metadata": {
        "colab": {
          "base_uri": "https://localhost:8080/"
        },
        "id": "uqgnEJwn-95I",
        "outputId": "5f4df1e0-6f60-4a37-f4f0-f8d21d729c9c"
      },
      "execution_count": null,
      "outputs": [
        {
          "output_type": "stream",
          "name": "stdout",
          "text": [
            "(50, 1000)\n"
          ]
        }
      ]
    },
    {
      "cell_type": "code",
      "source": [
        "# get top 5 class name with probabilities\n",
        "import keras\n",
        "predicted_top_5 = keras.applications.vgg19.decode_predictions(predictions.numpy())\n",
        "\n",
        "print(predicted_top_5)"
      ],
      "metadata": {
        "colab": {
          "base_uri": "https://localhost:8080/"
        },
        "id": "NwQnM2_t_EtP",
        "outputId": "13730202-5683-4119-9581-9f1fe1ec28c9"
      },
      "execution_count": null,
      "outputs": [
        {
          "output_type": "stream",
          "name": "stdout",
          "text": [
            "Downloading data from https://storage.googleapis.com/download.tensorflow.org/data/imagenet_class_index.json\n",
            "40960/35363 [==================================] - 0s 0us/step\n",
            "49152/35363 [=========================================] - 0s 0us/step\n",
            "[[('n03825788', 'nipple', 0.9041351), ('n03544143', 'hourglass', 0.019932017), ('n04152593', 'screen', 0.010086423), ('n03690938', 'lotion', 0.008332747), ('n04579145', 'whiskey_jug', 0.0041674958)], [('n03796401', 'moving_van', 0.6867204), ('n03961711', 'plate_rack', 0.060137294), ('n03207941', 'dishwasher', 0.030412223), ('n03764736', 'milk_can', 0.02449538), ('n04311004', 'steel_arch_bridge', 0.018423794)], [('n04428191', 'thresher', 0.49555123), ('n04008634', 'projectile', 0.07351186), ('n04153751', 'screw', 0.06832554), ('n03804744', 'nail', 0.06794346), ('n03000684', 'chain_saw', 0.022525927)], [('n01795545', 'black_grouse', 0.27466172), ('n02095889', 'Sealyham_terrier', 0.04681037), ('n02096437', 'Dandie_Dinmont', 0.039286315), ('n02422106', 'hartebeest', 0.03582016), ('n02085782', 'Japanese_spaniel', 0.033261638)], [('n03796401', 'moving_van', 0.5155112), ('n02690373', 'airliner', 0.062259812), ('n04357314', 'sunscreen', 0.032869123), ('n02783161', 'ballpoint', 0.02794356), ('n03075370', 'combination_lock', 0.025714021)], [('n03825788', 'nipple', 0.40820417), ('n04357314', 'sunscreen', 0.07542446), ('n04127249', 'safety_pin', 0.07196702), ('n04579432', 'whistle', 0.044836584), ('n03961711', 'plate_rack', 0.03485339)], [('n02112706', 'Brabancon_griffon', 0.3235681), ('n02087046', 'toy_terrier', 0.16341387), ('n02090379', 'redbone', 0.11569658), ('n02356798', 'fox_squirrel', 0.028155992), ('n02100583', 'vizsla', 0.024457952)], [('n02087046', 'toy_terrier', 0.45623848), ('n02113978', 'Mexican_hairless', 0.3934286), ('n02112706', 'Brabancon_griffon', 0.03507721), ('n02090379', 'redbone', 0.022628853), ('n02089078', 'black-and-tan_coonhound', 0.011377222)], [('n03658185', 'letter_opener', 0.224818), ('n02951585', 'can_opener', 0.18869081), ('n04033901', 'quill', 0.041049737), ('n03400231', 'frying_pan', 0.03295839), ('n03794056', 'mousetrap', 0.029456591)], [('n01843065', 'jacamar', 0.059857417), ('n03658185', 'letter_opener', 0.036255397), ('n04111531', 'rotisserie', 0.030894432), ('n03041632', 'cleaver', 0.028150393), ('n03476684', 'hair_slide', 0.025529813)], [('n03498962', 'hatchet', 0.07817441), ('n01930112', 'nematode', 0.0479272), ('n03658185', 'letter_opener', 0.039404765), ('n02356798', 'fox_squirrel', 0.037932035), ('n04579145', 'whiskey_jug', 0.032669734)], [('n02089973', 'English_foxhound', 0.2525549), ('n02114855', 'coyote', 0.23949644), ('n02115913', 'dhole', 0.055668313), ('n02115641', 'dingo', 0.052223828), ('n02114712', 'red_wolf', 0.038764734)], [('n02113978', 'Mexican_hairless', 0.25438115), ('n02112706', 'Brabancon_griffon', 0.15168831), ('n02087046', 'toy_terrier', 0.05865571), ('n01871265', 'tusker', 0.052189574), ('n02504013', 'Indian_elephant', 0.0482699)], [('n03903868', 'pedestal', 0.091621295), ('n04254120', 'soap_dispenser', 0.06597441), ('n04456115', 'torch', 0.041817512), ('n04380533', 'table_lamp', 0.03955031), ('n03937543', 'pill_bottle', 0.038836244)], [('n03961711', 'plate_rack', 0.20105977), ('n04428191', 'thresher', 0.18493952), ('n03825788', 'nipple', 0.06394314), ('n03297495', 'espresso_maker', 0.042611204), ('n04286575', 'spotlight', 0.030127157)], [('n03796401', 'moving_van', 0.41172796), ('n03777754', 'modem', 0.07939985), ('n04372370', 'switch', 0.044530954), ('n02978881', 'cassette', 0.03151628), ('n03692522', 'loupe', 0.021848936)], [('n04428191', 'thresher', 0.27882305), ('n04579432', 'whistle', 0.05985974), ('n03134739', 'croquet_ball', 0.05755326), ('n03825788', 'nipple', 0.05024042), ('n02815834', 'beaker', 0.03667065)], [('n03825788', 'nipple', 0.6737657), ('n02786058', 'Band_Aid', 0.05211254), ('n04127249', 'safety_pin', 0.023700431), ('n03961711', 'plate_rack', 0.014593184), ('n03476684', 'hair_slide', 0.013235172)], [('n03047690', 'clog', 0.17988026), ('n01968897', 'chambered_nautilus', 0.13566865), ('n03825788', 'nipple', 0.086029485), ('n03840681', 'ocarina', 0.084348395), ('n01496331', 'electric_ray', 0.082476)], [('n03961711', 'plate_rack', 0.30229297), ('n03125729', 'cradle', 0.2251564), ('n04152593', 'screen', 0.11525853), ('n03825788', 'nipple', 0.041852593), ('n03347037', 'fire_screen', 0.018535031)], [('n03764736', 'milk_can', 0.038972072), ('n03041632', 'cleaver', 0.036278088), ('n02087046', 'toy_terrier', 0.03545574), ('n02100236', 'German_short-haired_pointer', 0.034694232), ('n02095889', 'Sealyham_terrier', 0.032038666)], [('n01910747', 'jellyfish', 0.46286213), ('n01770393', 'scorpion', 0.04770308), ('n02219486', 'ant', 0.023891391), ('n03325584', 'feather_boa', 0.017111247), ('n04286575', 'spotlight', 0.014968092)], [('n04525038', 'velvet', 0.10962489), ('n01496331', 'electric_ray', 0.09414724), ('n03920288', 'Petri_dish', 0.089439824), ('n01930112', 'nematode', 0.05149786), ('n03764736', 'milk_can', 0.035917323)], [('n03825788', 'nipple', 0.24029547), ('n03920288', 'Petri_dish', 0.11563176), ('n01990800', 'isopod', 0.06699628), ('n03314780', 'face_powder', 0.05396662), ('n01930112', 'nematode', 0.04484428)], [('n01443537', 'goldfish', 0.24216121), ('n02493509', 'titi', 0.12905255), ('n01630670', 'common_newt', 0.05390095), ('n02489166', 'proboscis_monkey', 0.047368187), ('n02494079', 'squirrel_monkey', 0.0460108)], [('n03314780', 'face_powder', 0.47054642), ('n04357314', 'sunscreen', 0.109399945), ('n03690938', 'lotion', 0.053097714), ('n03825788', 'nipple', 0.04484955), ('n07932039', 'eggnog', 0.040437434)], [('n03825788', 'nipple', 0.0860091), ('n02356798', 'fox_squirrel', 0.07880815), ('n02134084', 'ice_bear', 0.030766683), ('n02124075', 'Egyptian_cat', 0.028097445), ('n02123597', 'Siamese_cat', 0.025999079)], [('n03825788', 'nipple', 0.33021095), ('n03544143', 'hourglass', 0.049984723), ('n04086273', 'revolver', 0.03118357), ('n01930112', 'nematode', 0.02406298), ('n04579432', 'whistle', 0.023809781)], [('n01990800', 'isopod', 0.4355389), ('n03658185', 'letter_opener', 0.0497722), ('n03884397', 'panpipe', 0.04800118), ('n03476684', 'hair_slide', 0.04346789), ('n03825788', 'nipple', 0.033686344)], [('n03794056', 'mousetrap', 0.33589563), ('n03584829', 'iron', 0.100717776), ('n02951585', 'can_opener', 0.07304504), ('n04153751', 'screw', 0.04978759), ('n03041632', 'cleaver', 0.0405056)], [('n03476684', 'hair_slide', 0.22094825), ('n04579432', 'whistle', 0.22062084), ('n03720891', 'maraca', 0.21973264), ('n02783161', 'ballpoint', 0.07976151), ('n03658185', 'letter_opener', 0.07307248)], [('n03825788', 'nipple', 0.21476229), ('n03690938', 'lotion', 0.1660699), ('n03297495', 'espresso_maker', 0.13144341), ('n03476991', 'hair_spray', 0.0980723), ('n04357314', 'sunscreen', 0.064910226)], [('n04542943', 'waffle_iron', 0.19294167), ('n04344873', 'studio_couch', 0.15158513), ('n04152593', 'screen', 0.071604975), ('n03825788', 'nipple', 0.057315182), ('n02951585', 'can_opener', 0.042999327)], [('n02101556', 'clumber', 0.10462389), ('n02096437', 'Dandie_Dinmont', 0.09970075), ('n02356798', 'fox_squirrel', 0.095077984), ('n02091635', 'otterhound', 0.07241206), ('n02085782', 'Japanese_spaniel', 0.06937497)], [('n02087046', 'toy_terrier', 0.2720125), ('n02326432', 'hare', 0.24771795), ('n02422106', 'hartebeest', 0.07236466), ('n02356798', 'fox_squirrel', 0.047536764), ('n02100236', 'German_short-haired_pointer', 0.028696796)], [('n02074367', 'dugong', 0.3520954), ('n02606052', 'rock_beauty', 0.21992421), ('n03041632', 'cleaver', 0.029379237), ('n04127249', 'safety_pin', 0.025102673), ('n04355933', 'sunglass', 0.016647384)], [('n03903868', 'pedestal', 0.18947439), ('n03825788', 'nipple', 0.10233657), ('n02123394', 'Persian_cat', 0.10125202), ('n02095889', 'Sealyham_terrier', 0.08405782), ('n03690938', 'lotion', 0.07378397)], [('n02089973', 'English_foxhound', 0.10396984), ('n02423022', 'gazelle', 0.08799184), ('n03825788', 'nipple', 0.06683363), ('n03544143', 'hourglass', 0.043613553), ('n03920288', 'Petri_dish', 0.033324346)], [('n04125021', 'safe', 0.17756301), ('n03942813', 'ping-pong_ball', 0.13593782), ('n03207941', 'dishwasher', 0.09838315), ('n03690938', 'lotion', 0.08650281), ('n03961711', 'plate_rack', 0.0593682)], [('n02422106', 'hartebeest', 0.05140964), ('n01795545', 'black_grouse', 0.04105506), ('n02091635', 'otterhound', 0.03901093), ('n02423022', 'gazelle', 0.02829451), ('n02095889', 'Sealyham_terrier', 0.02467051)], [('n02085782', 'Japanese_spaniel', 0.64825284), ('n02097474', 'Tibetan_terrier', 0.104712635), ('n02086079', 'Pekinese', 0.074076615), ('n02112350', 'keeshond', 0.05674459), ('n02091635', 'otterhound', 0.026599992)], [('n03498962', 'hatchet', 0.2911052), ('n03804744', 'nail', 0.27998334), ('n03970156', 'plunger', 0.10866537), ('n04208210', 'shovel', 0.023704499), ('n03729826', 'matchstick', 0.02299347)], [('n02422106', 'hartebeest', 0.22232142), ('n02100236', 'German_short-haired_pointer', 0.06631287), ('n02099429', 'curly-coated_retriever', 0.050890755), ('n02093647', 'Bedlington_terrier', 0.046050366), ('n02095889', 'Sealyham_terrier', 0.03682782)], [('n02113978', 'Mexican_hairless', 0.34878492), ('n02087046', 'toy_terrier', 0.2851868), ('n02110806', 'basenji', 0.06686587), ('n03803284', 'muzzle', 0.06539596), ('n03825788', 'nipple', 0.014357957)], [('n02704792', 'amphibian', 0.5366519), ('n02074367', 'dugong', 0.059218995), ('n03982430', 'pool_table', 0.04005636), ('n02096437', 'Dandie_Dinmont', 0.027259788), ('n03095699', 'container_ship', 0.019516597)], [('n03825788', 'nipple', 0.6369671), ('n03764736', 'milk_can', 0.052676484), ('n04357314', 'sunscreen', 0.042884164), ('n03690938', 'lotion', 0.038934324), ('n07932039', 'eggnog', 0.03586333)], [('n04579432', 'whistle', 0.144365), ('n03692522', 'loupe', 0.1138589), ('n03814639', 'neck_brace', 0.04761438), ('n03825788', 'nipple', 0.04410545), ('n04542943', 'waffle_iron', 0.041846823)], [('n01795545', 'black_grouse', 0.12819263), ('n04153751', 'screw', 0.06485041), ('n02799071', 'baseball', 0.06007076), ('n02130308', 'cheetah', 0.037267793), ('n09835506', 'ballplayer', 0.032062557)], [('n02087046', 'toy_terrier', 0.28015932), ('n02113978', 'Mexican_hairless', 0.12983717), ('n02089973', 'English_foxhound', 0.09394504), ('n02109047', 'Great_Dane', 0.038581047), ('n02112706', 'Brabancon_griffon', 0.03288711)], [('n02749479', 'assault_rifle', 0.11878414), ('n01990800', 'isopod', 0.1107002), ('n04428191', 'thresher', 0.056252655), ('n03995372', 'power_drill', 0.053250488), ('n04067472', 'reel', 0.04642657)]]\n"
          ]
        }
      ]
    },
    {
      "cell_type": "code",
      "source": [
        "# chaking if max is selecting the maximum value\n",
        "len(np. max(grad, axis=1))"
      ],
      "metadata": {
        "colab": {
          "base_uri": "https://localhost:8080/"
        },
        "id": "3IOnBNP-_OwB",
        "outputId": "0496f732-ca12-4e1f-ff83-0cec09f7aa54"
      },
      "execution_count": null,
      "outputs": [
        {
          "output_type": "execute_result",
          "data": {
            "text/plain": [
              "50"
            ]
          },
          "metadata": {},
          "execution_count": 9
        }
      ]
    },
    {
      "cell_type": "code",
      "source": [
        "# normalize the flatten gradients\n",
        "grad= abs(grad)\n",
        "print(grad.shape)\n",
        "partial_derivative = grad/np.max(grad, axis=0)\n",
        "print(partial_derivative)"
      ],
      "metadata": {
        "colab": {
          "base_uri": "https://localhost:8080/"
        },
        "id": "bmWtFBqlEdex",
        "outputId": "d13eb8cc-67e3-4491-8c3b-ea351e7e399e"
      },
      "execution_count": null,
      "outputs": [
        {
          "output_type": "stream",
          "name": "stdout",
          "text": [
            "(50, 25088)\n",
            "tf.Tensor(\n",
            "[[0.02063838 0.4650956  1.         ... 0.28626224 1.         1.        ]\n",
            " [0.46119332 0.6320537  0.18072389 ... 1.         0.12784609 0.0835707 ]\n",
            " [0.         0.         0.         ... 0.         0.         0.        ]\n",
            " ...\n",
            " [0.1910755  0.17085321 0.09881671 ... 0.19842009 0.12930484 0.0508236 ]\n",
            " [0.         0.         0.         ... 0.         0.         0.        ]\n",
            " [0.         0.         0.         ... 0.         0.         0.        ]], shape=(50, 25088), dtype=float32)\n"
          ]
        }
      ]
    },
    {
      "cell_type": "code",
      "source": [
        "# neuron influence\n",
        "influence = flatten_layer_output * partial_derivative"
      ],
      "metadata": {
        "id": "K8sJmuWVF8W1"
      },
      "execution_count": null,
      "outputs": []
    },
    {
      "cell_type": "code",
      "source": [
        "influence"
      ],
      "metadata": {
        "colab": {
          "base_uri": "https://localhost:8080/"
        },
        "id": "T6DNDwVLGREL",
        "outputId": "1fd5ff33-17b3-4f8b-9978-c56a07c00980"
      },
      "execution_count": null,
      "outputs": [
        {
          "output_type": "execute_result",
          "data": {
            "text/plain": [
              "<tf.Tensor: shape=(50, 25088), dtype=float32, numpy=\n",
              "array([[0.       , 0.6195335, 0.       , ..., 0.       , 0.       ,\n",
              "        0.       ],\n",
              "       [0.       , 0.       , 0.       , ..., 0.       , 1.0019522,\n",
              "        0.       ],\n",
              "       [0.       , 0.       , 0.       , ..., 0.       , 0.       ,\n",
              "        0.       ],\n",
              "       ...,\n",
              "       [0.       , 0.       , 0.       , ..., 0.       , 0.       ,\n",
              "        0.       ],\n",
              "       [0.       , 0.       , 0.       , ..., 0.       , 0.       ,\n",
              "        0.       ],\n",
              "       [0.       , 0.       , 0.       , ..., 0.       , 0.       ,\n",
              "        0.       ]], dtype=float32)>"
            ]
          },
          "metadata": {},
          "execution_count": 12
        }
      ]
    },
    {
      "cell_type": "code",
      "source": [
        "temp = influence[:,:512]\n",
        "print(temp)"
      ],
      "metadata": {
        "colab": {
          "base_uri": "https://localhost:8080/"
        },
        "id": "fts14HaZGKD6",
        "outputId": "9ffced07-d8f4-450f-e171-794234d7a7e2"
      },
      "execution_count": null,
      "outputs": [
        {
          "output_type": "stream",
          "name": "stdout",
          "text": [
            "tf.Tensor(\n",
            "[[0.        0.6195335 0.        ... 0.        0.        0.       ]\n",
            " [0.        0.        0.        ... 0.        3.8890371 0.       ]\n",
            " [0.        0.        0.        ... 0.        0.        0.       ]\n",
            " ...\n",
            " [0.        0.        0.        ... 0.        0.        0.       ]\n",
            " [0.        0.        0.        ... 0.        0.        0.       ]\n",
            " [0.        0.        0.        ... 0.        0.        0.       ]], shape=(50, 512), dtype=float32)\n"
          ]
        }
      ]
    },
    {
      "cell_type": "code",
      "source": [
        "import matplotlib.pyplot as plt\n",
        "import pandas as pd\n",
        "\n",
        "X = list(int(i) for i in range(0, 512))\n",
        "# Initialize the lists for X and Y\n",
        "    #plt.bar(X, Y, color='g')\n",
        "plt.xlabel(\"Neurons\")\n",
        "plt.ylabel(\"Influence\")\n",
        "# plt.xlim(-0.5, 100)\n",
        "# plt.ylim(-0.5, 100)\n",
        "for i in range(50):\n",
        "  plt.plot(X, influence[i][0:512], color = 'g')\n",
        "    # plt.plot(X, Y, color = 'g')\n",
        "plt.xticks(rotation = 0)\n",
        "plt.grid()\n",
        "    # plt.savefig('dataset_and_generated_graph/same_resolution/plot'+str(i)+'.png', dpi=500, bbox_inches='tight')\n",
        "plt.show()"
      ],
      "metadata": {
        "colab": {
          "base_uri": "https://localhost:8080/",
          "height": 283
        },
        "id": "bnFXqRwcTeGc",
        "outputId": "9ed51880-528b-4790-c339-3966798b4a69"
      },
      "execution_count": null,
      "outputs": [
        {
          "output_type": "display_data",
          "data": {
            "text/plain": [
              "<Figure size 432x288 with 1 Axes>"
            ],
            "image/png": "[encoded data removed]"
          },
          "metadata": {
            "needs_background": "light"
          }
        }
      ]
    },
    {
      "cell_type": "markdown",
      "source": [
        "Generate perturbed images"
      ],
      "metadata": {
        "id": "D36q8wGYUkYN"
      }
    }
  ]
}